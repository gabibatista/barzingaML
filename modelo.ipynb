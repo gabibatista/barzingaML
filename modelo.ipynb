{
 "cells": [
  {
   "cell_type": "markdown",
   "metadata": {},
   "source": [
    "# Classificação de Imagens - Barzinga"
   ]
  },
  {
   "cell_type": "code",
   "execution_count": 1,
   "metadata": {},
   "outputs": [],
   "source": [
    "from sklearn.preprocessing import StandardScaler\n",
    "from time import time\n",
    "import pandas as pd\n",
    "import numpy as np"
   ]
  },
  {
   "cell_type": "markdown",
   "metadata": {},
   "source": [
    "## Carregando Dados"
   ]
  },
  {
   "cell_type": "code",
   "execution_count": 2,
   "metadata": {},
   "outputs": [],
   "source": [
    "np.random.seed(100)\n",
    "df = pd.read_csv('dataset.csv', header=None)"
   ]
  },
  {
   "cell_type": "code",
   "execution_count": 3,
   "metadata": {},
   "outputs": [
    {
     "data": {
      "text/html": [
       "<div>\n",
       "<style scoped>\n",
       "    .dataframe tbody tr th:only-of-type {\n",
       "        vertical-align: middle;\n",
       "    }\n",
       "\n",
       "    .dataframe tbody tr th {\n",
       "        vertical-align: top;\n",
       "    }\n",
       "\n",
       "    .dataframe thead th {\n",
       "        text-align: right;\n",
       "    }\n",
       "</style>\n",
       "<table border=\"1\" class=\"dataframe\">\n",
       "  <thead>\n",
       "    <tr style=\"text-align: right;\">\n",
       "      <th></th>\n",
       "      <th>0</th>\n",
       "      <th>1</th>\n",
       "      <th>2</th>\n",
       "      <th>3</th>\n",
       "      <th>4</th>\n",
       "      <th>5</th>\n",
       "      <th>6</th>\n",
       "      <th>7</th>\n",
       "      <th>8</th>\n",
       "      <th>9</th>\n",
       "      <th>...</th>\n",
       "      <th>7491</th>\n",
       "      <th>7492</th>\n",
       "      <th>7493</th>\n",
       "      <th>7494</th>\n",
       "      <th>7495</th>\n",
       "      <th>7496</th>\n",
       "      <th>7497</th>\n",
       "      <th>7498</th>\n",
       "      <th>7499</th>\n",
       "      <th>7500</th>\n",
       "    </tr>\n",
       "  </thead>\n",
       "  <tbody>\n",
       "    <tr>\n",
       "      <th>0</th>\n",
       "      <td>36494</td>\n",
       "      <td>18504</td>\n",
       "      <td>21074</td>\n",
       "      <td>35980</td>\n",
       "      <td>18761</td>\n",
       "      <td>21074</td>\n",
       "      <td>36237</td>\n",
       "      <td>19018</td>\n",
       "      <td>21331</td>\n",
       "      <td>37522</td>\n",
       "      <td>...</td>\n",
       "      <td>26728</td>\n",
       "      <td>23387</td>\n",
       "      <td>18504</td>\n",
       "      <td>25443</td>\n",
       "      <td>22616</td>\n",
       "      <td>17990</td>\n",
       "      <td>24929</td>\n",
       "      <td>22102</td>\n",
       "      <td>16962</td>\n",
       "      <td>sensacao</td>\n",
       "    </tr>\n",
       "    <tr>\n",
       "      <th>1</th>\n",
       "      <td>45489</td>\n",
       "      <td>47031</td>\n",
       "      <td>43947</td>\n",
       "      <td>45489</td>\n",
       "      <td>47031</td>\n",
       "      <td>43947</td>\n",
       "      <td>45489</td>\n",
       "      <td>47031</td>\n",
       "      <td>43947</td>\n",
       "      <td>45489</td>\n",
       "      <td>...</td>\n",
       "      <td>58082</td>\n",
       "      <td>59110</td>\n",
       "      <td>54741</td>\n",
       "      <td>56540</td>\n",
       "      <td>57054</td>\n",
       "      <td>53456</td>\n",
       "      <td>54227</td>\n",
       "      <td>54484</td>\n",
       "      <td>50372</td>\n",
       "      <td>sensacao</td>\n",
       "    </tr>\n",
       "    <tr>\n",
       "      <th>2</th>\n",
       "      <td>44461</td>\n",
       "      <td>45489</td>\n",
       "      <td>41120</td>\n",
       "      <td>44461</td>\n",
       "      <td>45489</td>\n",
       "      <td>41634</td>\n",
       "      <td>44204</td>\n",
       "      <td>45232</td>\n",
       "      <td>41634</td>\n",
       "      <td>44461</td>\n",
       "      <td>...</td>\n",
       "      <td>50629</td>\n",
       "      <td>49087</td>\n",
       "      <td>46003</td>\n",
       "      <td>50115</td>\n",
       "      <td>48573</td>\n",
       "      <td>45489</td>\n",
       "      <td>49344</td>\n",
       "      <td>47802</td>\n",
       "      <td>44718</td>\n",
       "      <td>trident</td>\n",
       "    </tr>\n",
       "    <tr>\n",
       "      <th>3</th>\n",
       "      <td>49858</td>\n",
       "      <td>52685</td>\n",
       "      <td>51657</td>\n",
       "      <td>50115</td>\n",
       "      <td>52428</td>\n",
       "      <td>51657</td>\n",
       "      <td>48059</td>\n",
       "      <td>50372</td>\n",
       "      <td>50115</td>\n",
       "      <td>41377</td>\n",
       "      <td>...</td>\n",
       "      <td>64250</td>\n",
       "      <td>64250</td>\n",
       "      <td>63736</td>\n",
       "      <td>63993</td>\n",
       "      <td>63736</td>\n",
       "      <td>62708</td>\n",
       "      <td>63479</td>\n",
       "      <td>63222</td>\n",
       "      <td>62194</td>\n",
       "      <td>duo</td>\n",
       "    </tr>\n",
       "    <tr>\n",
       "      <th>4</th>\n",
       "      <td>49858</td>\n",
       "      <td>52685</td>\n",
       "      <td>51143</td>\n",
       "      <td>49858</td>\n",
       "      <td>52942</td>\n",
       "      <td>51914</td>\n",
       "      <td>49344</td>\n",
       "      <td>53199</td>\n",
       "      <td>51914</td>\n",
       "      <td>50115</td>\n",
       "      <td>...</td>\n",
       "      <td>64250</td>\n",
       "      <td>63993</td>\n",
       "      <td>62708</td>\n",
       "      <td>63736</td>\n",
       "      <td>62965</td>\n",
       "      <td>61166</td>\n",
       "      <td>63736</td>\n",
       "      <td>62965</td>\n",
       "      <td>60652</td>\n",
       "      <td>duo</td>\n",
       "    </tr>\n",
       "  </tbody>\n",
       "</table>\n",
       "<p>5 rows × 7501 columns</p>\n",
       "</div>"
      ],
      "text/plain": [
       "    0      1      2      3      4      5      6      7      8      9     \\\n",
       "0  36494  18504  21074  35980  18761  21074  36237  19018  21331  37522   \n",
       "1  45489  47031  43947  45489  47031  43947  45489  47031  43947  45489   \n",
       "2  44461  45489  41120  44461  45489  41634  44204  45232  41634  44461   \n",
       "3  49858  52685  51657  50115  52428  51657  48059  50372  50115  41377   \n",
       "4  49858  52685  51143  49858  52942  51914  49344  53199  51914  50115   \n",
       "\n",
       "     ...      7491   7492   7493   7494   7495   7496   7497   7498   7499  \\\n",
       "0    ...     26728  23387  18504  25443  22616  17990  24929  22102  16962   \n",
       "1    ...     58082  59110  54741  56540  57054  53456  54227  54484  50372   \n",
       "2    ...     50629  49087  46003  50115  48573  45489  49344  47802  44718   \n",
       "3    ...     64250  64250  63736  63993  63736  62708  63479  63222  62194   \n",
       "4    ...     64250  63993  62708  63736  62965  61166  63736  62965  60652   \n",
       "\n",
       "       7500  \n",
       "0  sensacao  \n",
       "1  sensacao  \n",
       "2   trident  \n",
       "3       duo  \n",
       "4       duo  \n",
       "\n",
       "[5 rows x 7501 columns]"
      ]
     },
     "execution_count": 3,
     "metadata": {},
     "output_type": "execute_result"
    }
   ],
   "source": [
    "df.head()"
   ]
  },
  {
   "cell_type": "code",
   "execution_count": 4,
   "metadata": {},
   "outputs": [],
   "source": [
    "df.loc[df[7500] == 'oreo', 7500] = 0\n",
    "df.loc[df[7500] == 'sensacao', 7500] = 1\n",
    "df.loc[df[7500] == 'duo', 7500] = 2\n",
    "df.loc[df[7500] == 'trident', 7500] = 2"
   ]
  },
  {
   "cell_type": "markdown",
   "metadata": {},
   "source": [
    "## Split de Dados"
   ]
  },
  {
   "cell_type": "code",
   "execution_count": 5,
   "metadata": {},
   "outputs": [],
   "source": [
    "df_train = df.iloc[:900, :]\n",
    "df_test = df.iloc[900:, :]"
   ]
  },
  {
   "cell_type": "markdown",
   "metadata": {},
   "source": [
    "## Features"
   ]
  },
  {
   "cell_type": "code",
   "execution_count": 6,
   "metadata": {},
   "outputs": [
    {
     "data": {
      "text/plain": [
       "numpy.ndarray"
      ]
     },
     "execution_count": 6,
     "metadata": {},
     "output_type": "execute_result"
    }
   ],
   "source": [
    "a = []\n",
    "for i in range(0, 2500):\n",
    "    a.append(.2126)\n",
    "    a.append(.7152)\n",
    "    a.append(.0722)\n",
    "\n",
    "a = np.array(a)\n",
    "type(a)"
   ]
  },
  {
   "cell_type": "code",
   "execution_count": 7,
   "metadata": {},
   "outputs": [],
   "source": [
    "X_train = (df_train.iloc[:, :-1].values / 255) * a\n",
    "X_test = (df_test.iloc[:, :-1].values / 255) * a"
   ]
  },
  {
   "cell_type": "code",
   "execution_count": 8,
   "metadata": {},
   "outputs": [
    {
     "data": {
      "text/plain": [
       "(900, 7500)"
      ]
     },
     "execution_count": 8,
     "metadata": {},
     "output_type": "execute_result"
    }
   ],
   "source": [
    "X_train.shape"
   ]
  },
  {
   "cell_type": "markdown",
   "metadata": {},
   "source": [
    "## Dados"
   ]
  },
  {
   "cell_type": "code",
   "execution_count": 9,
   "metadata": {},
   "outputs": [],
   "source": [
    "y_train = df_train[7500].values\n",
    "y_train_onehot = pd.get_dummies(df_train[7500]).values\n",
    "y_test = df_test[7500].values"
   ]
  },
  {
   "cell_type": "markdown",
   "metadata": {},
   "source": [
    "## Rede Neural Convolucional"
   ]
  },
  {
   "cell_type": "code",
   "execution_count": 10,
   "metadata": {
    "scrolled": true
   },
   "outputs": [
    {
     "name": "stderr",
     "output_type": "stream",
     "text": [
      "/home/gabriela.batista/anaconda3/lib/python3.6/site-packages/h5py/__init__.py:36: FutureWarning: Conversion of the second argument of issubdtype from `float` to `np.floating` is deprecated. In future, it will be treated as `np.float64 == np.dtype(float).type`.\n",
      "  from ._conv import register_converters as _register_converters\n",
      "Using TensorFlow backend.\n"
     ]
    },
    {
     "name": "stdout",
     "output_type": "stream",
     "text": [
      "Epoch 1/2\n",
      "900/900 [==============================] - 24s 26ms/step - loss: 8.1422 - acc: 0.4811\n",
      "Epoch 2/2\n",
      "900/900 [==============================] - 23s 25ms/step - loss: 8.2740 - acc: 0.4867\n",
      "\n",
      "Tempo gasto: 47.022934675216675 segundos\n"
     ]
    }
   ],
   "source": [
    "from keras.models import Sequential\n",
    "from keras.layers import Dense, Activation, Dropout, Conv2D, MaxPooling2D, Flatten\n",
    "\n",
    "start = time()\n",
    "\n",
    "img_rows, img_cols = 50, 150\n",
    "nb_filters = 16\n",
    "pool_size = (2, 2)\n",
    "kernel_size = (4, 4)\n",
    "\n",
    "X_train = X_train.reshape(X_train.shape[0], img_rows, img_cols, 1)\n",
    "X_test = X_test.reshape(X_test.shape[0], img_rows, img_cols, 1)\n",
    "input_shape = (img_rows, img_cols, 1)\n",
    "\n",
    "model = Sequential()\n",
    "\n",
    "model.add(Conv2D(nb_filters, kernel_size, input_shape=input_shape))\n",
    "\n",
    "model.add(Activation('relu'))\n",
    "\n",
    "model.add(Conv2D(nb_filters, kernel_size))\n",
    "\n",
    "model.add(Activation('relu'))\n",
    "\n",
    "model.add(Conv2D(nb_filters, kernel_size))\n",
    "\n",
    "model.add(Activation('relu'))\n",
    "\n",
    "model.add(Conv2D(nb_filters, kernel_size))\n",
    "\n",
    "model.add(Activation('relu'))\n",
    "\n",
    "model.add(Conv2D(nb_filters, kernel_size))\n",
    "\n",
    "model.add(Activation('relu'))\n",
    "\n",
    "model.add(MaxPooling2D(pool_size = pool_size))\n",
    "\n",
    "model.add(Dropout(0.25))\n",
    "\n",
    "model.add(Flatten())\n",
    "\n",
    "model.add(Dense(128))\n",
    "\n",
    "model.add(Activation('relu'))\n",
    "\n",
    "model.add(Dropout(0.3))\n",
    "\n",
    "model.add(Dense(3))\n",
    "\n",
    "model.add(Activation('softmax'))\n",
    "\n",
    "model.compile(loss='categorical_crossentropy', optimizer='adadelta', metrics=['accuracy'])\n",
    "\n",
    "model.fit(X_train, y_train_onehot, epochs=2)\n",
    "\n",
    "print ('\\nTempo gasto: %s segundos' % str(time() - start))"
   ]
  },
  {
   "cell_type": "code",
   "execution_count": 11,
   "metadata": {},
   "outputs": [
    {
     "name": "stdout",
     "output_type": "stream",
     "text": [
      "\n",
      "Acurácia 0.44537815126050423\n"
     ]
    }
   ],
   "source": [
    "y_prediction = model.predict_classes(X_test)\n",
    "print (\"\\nAcurácia\", np.sum(y_prediction == y_test) / float(len(y_test)))"
   ]
  },
  {
   "cell_type": "code",
   "execution_count": 12,
   "metadata": {},
   "outputs": [],
   "source": [
    "from keras.models import load_model\n",
    "\n",
    "model.save('barzinga_model.h5')  # creates a HDF5 file 'my_model.h5'\n",
    "del model  # deletes the existing model\n",
    "\n",
    "model = load_model('barzinga_model.h5')"
   ]
  }
 ],
 "metadata": {
  "kernelspec": {
   "display_name": "Python 3",
   "language": "python",
   "name": "python3"
  },
  "language_info": {
   "codemirror_mode": {
    "name": "ipython",
    "version": 3
   },
   "file_extension": ".py",
   "mimetype": "text/x-python",
   "name": "python",
   "nbconvert_exporter": "python",
   "pygments_lexer": "ipython3",
   "version": "3.6.4"
  }
 },
 "nbformat": 4,
 "nbformat_minor": 1
}
